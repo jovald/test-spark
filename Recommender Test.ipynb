{
    "nbformat_minor": 1, 
    "cells": [
        {
            "execution_count": 2, 
            "cell_type": "code", 
            "metadata": {}, 
            "outputs": [], 
            "source": "import org.apache.spark.sql.{DataFrame, Row}\nimport org.apache.spark.sql.functions._"
        }, 
        {
            "execution_count": 4, 
            "cell_type": "code", 
            "metadata": {}, 
            "outputs": [], 
            "source": "def similarity(a: Array[Double], b: Array[Double]): Double = {\n    val mod_a = scala.math.sqrt(a.reduce(scala.math.pow(_, 2) + scala.math.pow(_, 2)))\n    val mod_b = scala.math.sqrt(b.reduce(scala.math.pow(_, 2) + scala.math.pow(_, 2)))\n    val dot = a.zip(b).map(Function.tupled(_ * _)).sum\n    dot / (mod_b * mod_a)\n}"
        }, 
        {
            "execution_count": 6, 
            "cell_type": "code", 
            "metadata": {}, 
            "outputs": [], 
            "source": "def toSeqUnique(data: DataFrame, column_df: String): Seq[String] = {\n    val column = data.select(col(s\"$column_df\"))\n    column.dropDuplicates\n        .collect\n        .map(_.getString(0))\n        .toSeq\n}"
        }, 
        {
            "execution_count": 9, 
            "cell_type": "code", 
            "metadata": {}, 
            "outputs": [], 
            "source": "def getArrayFrom(data: DataFrame, column_df: String, cant: Int): Array[Double] = {\n    data.select(col(s\"$column_df\"))\n        .takeAsList(cant)\n        .toArray\n        .map(_.asInstanceOf[Row])\n        .map(_.getString(0).toDouble)\n}"
        }, 
        {
            "execution_count": 12, 
            "cell_type": "code", 
            "metadata": {}, 
            "outputs": [], 
            "source": "val data = Seq(\n    (\"241\", \"u1\", \"m1\", \"2\"),\n    (\"222\", \"u1\", \"m3\", \"3\"),\n    (\"276\", \"u2\", \"m1\", \"5\"),\n    (\"273\", \"u2\", \"m2\", \"2\"),\n    (\"200\", \"u3\", \"m1\", \"3\"),\n    (\"229\", \"u3\", \"m2\", \"3\"),\n    (\"231\", \"u3\", \"m3\", \"1\"),\n    (\"239\", \"u4\", \"m2\", \"2\"),\n    (\"286\", \"u4\", \"m3\", \"2\")\n).toDF(\"ID\", \"USER\", \"ITEM\", \"RATING\")"
        }, 
        {
            "execution_count": 17, 
            "cell_type": "code", 
            "metadata": {}, 
            "outputs": [
                {
                    "output_type": "stream", 
                    "name": "stdout", 
                    "text": "[Stage 16:================================================>         (5 + 1) / 6]+-----+-----+------------------+\n|ITEM1|ITEM2|SIM               |\n+-----+-----+------------------+\n|m3   |m1   |0.7893522173763263|\n|m3   |m2   |0.8682431421244593|\n|m1   |m2   |0.9037378388935388|\n+-----+-----+------------------+\n\n"
                }
            ], 
            "source": "var similarity_seq = Seq.empty[(String, String, Double)]\n\nval item_list = toSeqUnique(data, \"ITEM\")\nval item_list_cant = item_list.size\nval user_list = toSeqUnique(data, \"USER\")\nval user_list_cant = user_list.size\n\nvar i = 0\nfor(i <- 0 until item_list_cant - 1) {\n    val item1 = item_list(i)\n    var j = 0\n    for(j <- (i + 1) until item_list_cant) {\n        val item2 = item_list(j)\n        val df1 = data.filter($\"ITEM\" === item1)\n        val df2 = data.filter($\"ITEM\" === item2).withColumnRenamed(\"RATING\", \"RATING1\")\n        // Only one user\n        val res = df1.join(df2, Seq(\"USER\"))\n        \n        val v1 = getArrayFrom(res, \"RATING\", user_list_cant)\n        val v2 = getArrayFrom(res, \"RATING1\", user_list_cant)\n        val simi = similarity(v1, v2)\n        \n        similarity_seq = similarity_seq :+ (item1, item2, simi)\n    }\n}\n\nval simi_df = similarity_seq.toDF(\"ITEM1\", \"ITEM2\", \"SIM\")\nsimi_df.show(false)"
        }
    ], 
    "metadata": {
        "kernelspec": {
            "display_name": "Scala 2.11 with Spark 2.1", 
            "name": "scala-spark21", 
            "language": "scala"
        }, 
        "language_info": {
            "mimetype": "text/x-scala", 
            "version": "2.11.8", 
            "name": "scala", 
            "pygments_lexer": "scala", 
            "file_extension": ".scala", 
            "codemirror_mode": "text/x-scala"
        }
    }, 
    "nbformat": 4
}